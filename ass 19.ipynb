{
 "cells": [
  {
   "cell_type": "code",
   "execution_count": 4,
   "id": "6d001d9a",
   "metadata": {},
   "outputs": [
    {
     "name": "stdout",
     "output_type": "stream",
     "text": [
      "                sepal_length                                              \\\n",
      "                       count   mean       std  min    25%  50%  75%  max   \n",
      "species                                                                    \n",
      "Iris-setosa             50.0  5.006  0.352490  4.3  4.800  5.0  5.2  5.8   \n",
      "Iris-versicolor         50.0  5.936  0.516171  4.9  5.600  5.9  6.3  7.0   \n",
      "Iris-virginica          50.0  6.588  0.635880  4.9  6.225  6.5  6.9  7.9   \n",
      "\n",
      "                sepal_width         ... petal_length      petal_width         \\\n",
      "                      count   mean  ...          75%  max       count   mean   \n",
      "species                             ...                                        \n",
      "Iris-setosa            50.0  3.418  ...        1.575  1.9        50.0  0.244   \n",
      "Iris-versicolor        50.0  2.770  ...        4.600  5.1        50.0  1.326   \n",
      "Iris-virginica         50.0  2.974  ...        5.875  6.9        50.0  2.026   \n",
      "\n",
      "                                                    \n",
      "                      std  min  25%  50%  75%  max  \n",
      "species                                             \n",
      "Iris-setosa      0.107210  0.1  0.2  0.2  0.3  0.6  \n",
      "Iris-versicolor  0.197753  1.0  1.2  1.3  1.5  1.8  \n",
      "Iris-virginica   0.274650  1.4  1.8  2.0  2.3  2.5  \n",
      "\n",
      "[3 rows x 32 columns]\n"
     ]
    },
    {
     "data": {
      "text/plain": [
       "count    50.00000\n",
       "mean      6.58800\n",
       "std       0.63588\n",
       "min       4.90000\n",
       "25%       6.22500\n",
       "50%       6.50000\n",
       "75%       6.90000\n",
       "max       7.90000\n",
       "dtype: float64"
      ]
     },
     "execution_count": 4,
     "metadata": {},
     "output_type": "execute_result"
    }
   ],
   "source": [
    "import pandas as pd\n",
    "\n",
    "# Load the dataset\n",
    "file_path = \"D://DSML PRACTICAL//Datasets//iris.csv\"  # Update the file path if needed\n",
    "df = pd.read_csv(file_path)\n",
    "\n",
    "# # Filter data for the species of interest\n",
    "# species_of_interest = ['Iris-setosa', 'Iris-versicolor', 'Iris-virginica']\n",
    "# filtered_df = df[df['species'].isin(species_of_interest)]\n",
    "\n",
    "# # Group by 'species' and compute summary statistics for the numeric columns using describe()\n",
    "summary_stats = df.groupby('species').describe()\n",
    "print(summary_stats)\n",
    "# # Display the summary statistics\n",
    "# print(\"Summary Statistics for the Species 'Iris-setosa', 'Iris-versicolor', and 'Iris-virginica':\")\n",
    "summary_stats['sepal_length'].mean()\n",
    "summary_stats['sepal_length'].min()\n",
    "summary_stats['sepal_length'].max()\n",
    "\n"
   ]
  },
  {
   "cell_type": "code",
   "execution_count": null,
   "id": "9243db2e",
   "metadata": {},
   "outputs": [],
   "source": []
  }
 ],
 "metadata": {
  "kernelspec": {
   "display_name": "Python 3",
   "language": "python",
   "name": "python3"
  },
  "language_info": {
   "codemirror_mode": {
    "name": "ipython",
    "version": 3
   },
   "file_extension": ".py",
   "mimetype": "text/x-python",
   "name": "python",
   "nbconvert_exporter": "python",
   "pygments_lexer": "ipython3",
   "version": "3.11.2"
  }
 },
 "nbformat": 4,
 "nbformat_minor": 5
}
