{
 "cells": [
  {
   "cell_type": "code",
   "execution_count": null,
   "id": "0ba66de0",
   "metadata": {},
   "outputs": [],
   "source": [
    "import pandas as pd\n",
    "\n",
    "# Load the dataset\n",
    "file_path = \"D://DSML PRACTICAL//Datasets//Covid Vaccine Statewise.csv\"\n",
    "df = pd.read_csv(file_path)\n",
    "\n",
    "# A. Describe the dataset\n",
    "description = df.describe(include='all')\n",
    "print(\"Dataset Description:\\n\", description)\n",
    "\n",
    "# B. Number of Males vaccinated\n",
    "# Assuming 'Male (Doses Administered)' column contains male vaccination data\n",
    "males_vaccinated = df['First Dose Administered'].sum()\n",
    "print(f\"\\nNumber of males vaccinated: {males_vaccinated}\")\n",
    "\n",
    "# C. Number of Females vaccinated\n",
    "# Assuming 'Female (Doses Administered)' column contains female vaccination data\n",
    "females_vaccinated = df['Female (Doses Administered)'].sum()\n",
    "print(f\"\\nNumber of females vaccinated: {females_vaccinated}\")\n"
   ]
  }
 ],
 "metadata": {
  "kernelspec": {
   "display_name": "Python 3 (ipykernel)",
   "language": "python",
   "name": "python3"
  },
  "language_info": {
   "codemirror_mode": {
    "name": "ipython",
    "version": 3
   },
   "file_extension": ".py",
   "mimetype": "text/x-python",
   "name": "python",
   "nbconvert_exporter": "python",
   "pygments_lexer": "ipython3",
   "version": "3.11.2"
  }
 },
 "nbformat": 4,
 "nbformat_minor": 5
}
