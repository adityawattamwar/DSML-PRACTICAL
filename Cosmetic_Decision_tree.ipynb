{
 "cells": [
  {
   "cell_type": "code",
   "execution_count": 1,
   "metadata": {},
   "outputs": [],
   "source": [
    "import pandas as pd\n",
    "import numpy as np"
   ]
  },
  {
   "cell_type": "code",
   "execution_count": 2,
   "metadata": {},
   "outputs": [],
   "source": [
    "df = pd.read_csv('D:/DSML PRACTICAL//Datasets//Lipstick.csv')"
   ]
  },
  {
   "cell_type": "code",
   "execution_count": 3,
   "metadata": {},
   "outputs": [
    {
     "data": {
      "text/html": [
       "<div>\n",
       "<style scoped>\n",
       "    .dataframe tbody tr th:only-of-type {\n",
       "        vertical-align: middle;\n",
       "    }\n",
       "\n",
       "    .dataframe tbody tr th {\n",
       "        vertical-align: top;\n",
       "    }\n",
       "\n",
       "    .dataframe thead th {\n",
       "        text-align: right;\n",
       "    }\n",
       "</style>\n",
       "<table border=\"1\" class=\"dataframe\">\n",
       "  <thead>\n",
       "    <tr style=\"text-align: right;\">\n",
       "      <th></th>\n",
       "      <th>Id</th>\n",
       "      <th>Age</th>\n",
       "      <th>Income</th>\n",
       "      <th>Gender</th>\n",
       "      <th>Ms</th>\n",
       "      <th>Buys</th>\n",
       "    </tr>\n",
       "  </thead>\n",
       "  <tbody>\n",
       "    <tr>\n",
       "      <th>0</th>\n",
       "      <td>1</td>\n",
       "      <td>&lt;21</td>\n",
       "      <td>High</td>\n",
       "      <td>Male</td>\n",
       "      <td>Single</td>\n",
       "      <td>No</td>\n",
       "    </tr>\n",
       "    <tr>\n",
       "      <th>1</th>\n",
       "      <td>2</td>\n",
       "      <td>&lt;21</td>\n",
       "      <td>High</td>\n",
       "      <td>Male</td>\n",
       "      <td>Married</td>\n",
       "      <td>No</td>\n",
       "    </tr>\n",
       "    <tr>\n",
       "      <th>2</th>\n",
       "      <td>3</td>\n",
       "      <td>21-35</td>\n",
       "      <td>High</td>\n",
       "      <td>Male</td>\n",
       "      <td>Single</td>\n",
       "      <td>Yes</td>\n",
       "    </tr>\n",
       "    <tr>\n",
       "      <th>3</th>\n",
       "      <td>4</td>\n",
       "      <td>&gt;35</td>\n",
       "      <td>Medium</td>\n",
       "      <td>Male</td>\n",
       "      <td>Single</td>\n",
       "      <td>Yes</td>\n",
       "    </tr>\n",
       "    <tr>\n",
       "      <th>4</th>\n",
       "      <td>5</td>\n",
       "      <td>&gt;35</td>\n",
       "      <td>Low</td>\n",
       "      <td>Female</td>\n",
       "      <td>Single</td>\n",
       "      <td>Yes</td>\n",
       "    </tr>\n",
       "  </tbody>\n",
       "</table>\n",
       "</div>"
      ],
      "text/plain": [
       "   Id    Age  Income  Gender       Ms Buys\n",
       "0   1    <21    High    Male   Single   No\n",
       "1   2    <21    High    Male  Married   No\n",
       "2   3  21-35    High    Male   Single  Yes\n",
       "3   4    >35  Medium    Male   Single  Yes\n",
       "4   5    >35     Low  Female   Single  Yes"
      ]
     },
     "execution_count": 3,
     "metadata": {},
     "output_type": "execute_result"
    }
   ],
   "source": [
    "df.head()"
   ]
  },
  {
   "cell_type": "code",
   "execution_count": 4,
   "metadata": {},
   "outputs": [
    {
     "data": {
      "text/plain": [
       "['Id', 'Age', 'Income', 'Gender', 'Ms', 'Buys']"
      ]
     },
     "execution_count": 4,
     "metadata": {},
     "output_type": "execute_result"
    }
   ],
   "source": [
    "columns = df.columns.to_list()\n",
    "columns"
   ]
  },
  {
   "cell_type": "code",
   "execution_count": 5,
   "metadata": {},
   "outputs": [
    {
     "data": {
      "text/plain": [
       "['Age', 'Income', 'Gender', 'Ms']"
      ]
     },
     "execution_count": 5,
     "metadata": {},
     "output_type": "execute_result"
    }
   ],
   "source": [
    "x = columns[1:-1]\n",
    "x"
   ]
  },
  {
   "cell_type": "code",
   "execution_count": 6,
   "metadata": {},
   "outputs": [
    {
     "data": {
      "text/plain": [
       "'Buys'"
      ]
     },
     "execution_count": 6,
     "metadata": {},
     "output_type": "execute_result"
    }
   ],
   "source": [
    "y = 'Buys'\n",
    "y"
   ]
  },
  {
   "cell_type": "code",
   "execution_count": 7,
   "metadata": {},
   "outputs": [],
   "source": [
    "def displayDateframe(feature,value,yes_count,no_count,total_count):\n",
    "    table = pd.DataFrame()\n",
    "    table[feature]=value\n",
    "    table['Yes']=yes_count\n",
    "    table['No']=no_count\n",
    "    table['Total']= total_count\n",
    "\n",
    "    print(table)"
   ]
  },
  {
   "cell_type": "code",
   "execution_count": 8,
   "metadata": {},
   "outputs": [],
   "source": [
    "def calculate(values,yes_count,no_count,total_count):\n",
    "    total_gini = 0\n",
    "    total = sum(total_count)\n",
    "    idx=0;\n",
    "    for val in values:\n",
    "        gini_temp = 1 - (yes_count[idx]/total_count[idx])**2 - (no_count[idx]/total_count[idx])**2\n",
    "        print(f\"{val} : {round(gini_temp,2)}\")\n",
    "        total_gini += (gini_temp * (total_count[idx]/total)) \n",
    "        idx+=1\n",
    "    return total_gini"
   ]
  },
  {
   "cell_type": "code",
   "execution_count": 9,
   "metadata": {},
   "outputs": [],
   "source": [
    "def calculateGini(df,feature,target):\n",
    "    unique_values = df[feature].unique()\n",
    "    print(unique_values)\n",
    "    values = []\n",
    "    yes_count = []\n",
    "    no_count = []\n",
    "    total_count=[]\n",
    "\n",
    "    for val in unique_values:\n",
    "        temp_df = df[df[feature]==val]\n",
    "        counts = temp_df[target].value_counts()\n",
    "        curr_yes = 0\n",
    "        curr_no = 0\n",
    "        print(type(counts))\n",
    "        if 'Yes' in counts:\n",
    "            curr_yes=counts.Yes\n",
    "        if 'No' in counts:\n",
    "            curr_no = counts.No\n",
    "        values.append(val)\n",
    "        yes_count.append(curr_yes)\n",
    "        no_count.append(curr_no)\n",
    "        total_count.append(curr_yes+curr_no)\n",
    "    \n",
    "        \n",
    "    displayDateframe(feature,values,yes_count,no_count,total_count)\n",
    "    giniIndex = calculate(values,yes_count,no_count,total_count)\n",
    "    print(f\"Gini index for {feature} : {round(giniIndex,2)}\\n\")\n",
    "    return giniIndex\n",
    "\n"
   ]
  },
  {
   "cell_type": "code",
   "execution_count": 10,
   "metadata": {},
   "outputs": [
    {
     "name": "stdout",
     "output_type": "stream",
     "text": [
      "['<21' '21-35' '>35']\n",
      "<class 'pandas.core.series.Series'>\n",
      "<class 'pandas.core.series.Series'>\n",
      "<class 'pandas.core.series.Series'>\n",
      "     Age  Yes  No  Total\n",
      "0    <21    2   3      5\n",
      "1  21-35    4   0      4\n",
      "2    >35    3   2      5\n",
      "<21 : 0.48\n",
      "21-35 : 0.0\n",
      ">35 : 0.48\n",
      "Gini index for Age : 0.34\n",
      "\n",
      "['High' 'Medium' 'Low']\n",
      "<class 'pandas.core.series.Series'>\n",
      "<class 'pandas.core.series.Series'>\n",
      "<class 'pandas.core.series.Series'>\n",
      "   Income  Yes  No  Total\n",
      "0    High    2   2      4\n",
      "1  Medium    4   2      6\n",
      "2     Low    3   1      4\n",
      "High : 0.5\n",
      "Medium : 0.44\n",
      "Low : 0.38\n",
      "Gini index for Income : 0.44\n",
      "\n",
      "['Male' 'Female']\n",
      "<class 'pandas.core.series.Series'>\n",
      "<class 'pandas.core.series.Series'>\n",
      "   Gender  Yes  No  Total\n",
      "0    Male    3   4      7\n",
      "1  Female    6   1      7\n",
      "Male : 0.49\n",
      "Female : 0.24\n",
      "Gini index for Gender : 0.37\n",
      "\n",
      "['Single' 'Married']\n",
      "<class 'pandas.core.series.Series'>\n",
      "<class 'pandas.core.series.Series'>\n",
      "        Ms  Yes  No  Total\n",
      "0   Single    5   2      7\n",
      "1  Married    4   3      7\n",
      "Single : 0.41\n",
      "Married : 0.49\n",
      "Gini index for Ms : 0.45\n",
      "\n",
      "The gini indices for each featre are as follows : \n",
      "Gini index for Age : 0.34\n",
      "Gini index for Income : 0.44\n",
      "Gini index for Gender : 0.37\n",
      "Gini index for Ms : 0.45\n"
     ]
    }
   ],
   "source": [
    "gini_indices = dict()\n",
    "for feature in x:\n",
    "    giniIndex = calculateGini(df,feature,y)\n",
    "    gini_indices[feature]=giniIndex\n",
    "\n",
    "print(\"The gini indices for each featre are as follows : \")\n",
    "for feature,value in gini_indices.items():\n",
    "    print(f\"Gini index for {feature} : {round(value,2)}\")"
   ]
  },
  {
   "cell_type": "code",
   "execution_count": 11,
   "metadata": {},
   "outputs": [
    {
     "name": "stdout",
     "output_type": "stream",
     "text": [
      "The root node is : Age\n"
     ]
    }
   ],
   "source": [
    "l=sorted(gini_indices.items(), key=lambda item: item[1])\n",
    "print(f\"The root node is : {l[0][0]}\")"
   ]
  },
  {
   "cell_type": "code",
   "execution_count": 12,
   "metadata": {},
   "outputs": [],
   "source": [
    "# from sklearn.preprocessing import LabelEncoder\n",
    "\n",
    "# encoders = {}\n",
    "# for column in columns:\n",
    "#     le = LabelEncoder()\n",
    "#     df[column] = le.fit_transform(df[column])\n",
    "#     encoders[column]=le\n",
    "# df.head(2)"
   ]
  },
  {
   "cell_type": "code",
   "execution_count": 13,
   "metadata": {},
   "outputs": [],
   "source": [
    "# x = df[columns[1:-1]]\n",
    "# y = df[columns[-1]]"
   ]
  },
  {
   "cell_type": "code",
   "execution_count": 14,
   "metadata": {},
   "outputs": [],
   "source": [
    "# from sklearn.tree import DecisionTreeRegressor,plot_tree\n",
    "# model = DecisionTreeRegressor()\n",
    "# model.fit(x,y)"
   ]
  },
  {
   "cell_type": "code",
   "execution_count": 15,
   "metadata": {},
   "outputs": [],
   "source": [
    "# import matplotlib.pyplot as plt \n",
    "\n",
    "# plt.figure(figsize=(12, 8))\n",
    "# plot_tree(model, feature_names=columns[1:-1], \n",
    "#           class_names=['Yes', 'No'], filled=True)\n",
    "# plt.show()"
   ]
  },
  {
   "cell_type": "code",
   "execution_count": 16,
   "metadata": {},
   "outputs": [],
   "source": [
    "# input_data = {\n",
    "#     'Age': ['>35'],\n",
    "#     'Income': ['Medium'],\n",
    "#     'Gender': ['Female'],\n",
    "#     'Ms': ['Married']\n",
    "# }\n",
    "# input_data = pd.DataFrame(input_data)\n",
    "# for column in x:\n",
    "#     le = encoders[column]\n",
    "#     input_data[column] = le.transform(input_data[column])\n",
    "# abc=model.predict(input_data)\n",
    "# abc = abc.astype(int) \n",
    "# print(encoders['Buys'].inverse_transform(abc))"
   ]
  },
  {
   "cell_type": "code",
   "execution_count": null,
   "metadata": {},
   "outputs": [],
   "source": []
  },
  {
   "cell_type": "code",
   "execution_count": null,
   "metadata": {},
   "outputs": [],
   "source": []
  },
  {
   "cell_type": "code",
   "execution_count": null,
   "metadata": {},
   "outputs": [],
   "source": []
  },
  {
   "cell_type": "code",
   "execution_count": null,
   "metadata": {},
   "outputs": [],
   "source": []
  },
  {
   "cell_type": "code",
   "execution_count": null,
   "metadata": {},
   "outputs": [],
   "source": []
  },
  {
   "cell_type": "code",
   "execution_count": null,
   "metadata": {},
   "outputs": [],
   "source": []
  }
 ],
 "metadata": {
  "kernelspec": {
   "display_name": "Python 3",
   "language": "python",
   "name": "python3"
  },
  "language_info": {
   "codemirror_mode": {
    "name": "ipython",
    "version": 3
   },
   "file_extension": ".py",
   "mimetype": "text/x-python",
   "name": "python",
   "nbconvert_exporter": "python",
   "pygments_lexer": "ipython3",
   "version": "3.11.2"
  }
 },
 "nbformat": 4,
 "nbformat_minor": 2
}
