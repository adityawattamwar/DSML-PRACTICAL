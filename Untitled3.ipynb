{
 "cells": [
  {
   "cell_type": "code",
   "execution_count": 13,
   "id": "32cb2389",
   "metadata": {},
   "outputs": [
    {
     "name": "stdout",
     "output_type": "stream",
     "text": [
      "Prediction for the test data:  Yes\n"
     ]
    },
    {
     "name": "stderr",
     "output_type": "stream",
     "text": [
      "C:\\Users\\ADITYA\\AppData\\Roaming\\Python\\Python311\\site-packages\\sklearn\\base.py:493: UserWarning: X does not have valid feature names, but DecisionTreeClassifier was fitted with feature names\n",
      "  warnings.warn(\n"
     ]
    }
   ],
   "source": [
    "import pandas as pd\n",
    "from sklearn.tree import DecisionTreeClassifier\n",
    "from sklearn.preprocessing import LabelEncoder\n",
    "\n",
    "# Step 1: Create the dataset\n",
    "data = {\n",
    "    \"Id\": [1, 2, 3, 4, 5, 6, 7, 8, 9, 10, 11, 12, 13, 14],\n",
    "    \"Age\": [\"<21\", \"<21\", \"21-35\", \">35\", \">35\", \">35\", \"21-35\", \"<21\", \"<21\", \">35\", \"<21\", \"21-35\", \"21-35\", \">35\"],\n",
    "    \"Income\": [\"High\", \"High\", \"High\", \"Medium\", \"Low\", \"Low\", \"Low\", \"Medium\", \"Low\", \"Medium\", \"Medium\", \"Medium\", \"High\", \"Medium\"],\n",
    "    \"Gender\": [\"Male\", \"Male\", \"Male\", \"Male\", \"Female\", \"Female\", \"Female\", \"Male\", \"Female\", \"Female\", \"Female\", \"Male\", \"Female\", \"Male\"],\n",
    "    \"Ms\": [\"Single\", \"Married\", \"Single\", \"Single\", \"Single\", \"Married\", \"Married\", \"Single\", \"Married\", \"Single\", \"Married\", \"Married\", \"Single\", \"Married\"],\n",
    "    \"Buys\": [\"No\", \"No\", \"Yes\", \"Yes\", \"Yes\", \"No\", \"Yes\", \"No\", \"Yes\", \"Yes\", \"Yes\", \"Yes\", \"Yes\", \"No\"]\n",
    "}\n",
    "df = pd.DataFrame(data)\n",
    "\n",
    "# Step 2: Encode categorical variables using LabelEncoder\n",
    "le = LabelEncoder()\n",
    "for col in [\"Age\", \"Income\", \"Gender\", \"Ms\", \"Buys\"]:\n",
    "    df[col] = le.fit_transform(df[col])\n",
    "\n",
    "\n",
    "df\n",
    "\n",
    "\n",
    "# Step 3: Split the dataset into features (X) and target (y)\n",
    "X = df[[\"Age\", \"Income\", \"Gender\", \"Ms\"]]\n",
    "y = df[\"Buys\"]\n",
    "\n",
    "# Step 4: Train the Decision Tree Classifier\n",
    "clf = DecisionTreeClassifier(criterion=\"log_loss\", random_state=42)\n",
    "clf.fit(X, y)\n",
    "\n",
    "# Step 5: Test data (simplified version)\n",
    "test_data = [[0, 2, 1, 1]]  # [Age < 21, Income = Low, Gender = Female, Marital Status = Married]\n",
    "\n",
    "# Step 6: Predict the outcome for the test data\n",
    "prediction = clf.predict(test_data)\n",
    "print(\"Prediction for the test data: \", \"Yes\" if prediction[0] == 1 else \"No\")\n"
   ]
  },
  {
   "cell_type": "code",
   "execution_count": null,
   "id": "d362e611",
   "metadata": {},
   "outputs": [],
   "source": []
  }
 ],
 "metadata": {
  "kernelspec": {
   "display_name": "Python 3 (ipykernel)",
   "language": "python",
   "name": "python3"
  },
  "language_info": {
   "codemirror_mode": {
    "name": "ipython",
    "version": 3
   },
   "file_extension": ".py",
   "mimetype": "text/x-python",
   "name": "python",
   "nbconvert_exporter": "python",
   "pygments_lexer": "ipython3",
   "version": "3.11.2"
  }
 },
 "nbformat": 4,
 "nbformat_minor": 5
}
