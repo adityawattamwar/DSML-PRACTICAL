{
 "cells": [
  {
   "cell_type": "code",
   "execution_count": 1,
   "id": "65548ef0",
   "metadata": {},
   "outputs": [
    {
     "name": "stdout",
     "output_type": "stream",
     "text": [
      "Updated centroid m1 (Cluster 1): (0.148, 0.712)\n",
      "Updated centroid m2 (Cluster 2): (0.24666666666666667, 0.20000000000000004)\n",
      "P6 belongs to Cluster 1 (C1)\n",
      "Population of Cluster 2 (C2) around m2: 3\n"
     ]
    }
   ],
   "source": [
    "import math\n",
    "\n",
    "# Step 1: Define the points as a list of tuples (x, y)\n",
    "points = [\n",
    "    (0.1, 0.6), (0.15, 0.71), (0.08, 0.9), (0.16, 0.85), \n",
    "    (0.2, 0.3), (0.25, 0.5), (0.24, 0.1), (0.3, 0.2)\n",
    "]\n",
    "\n",
    "# Step 2: Initialize centroids (m1 = P1 and m2 = P8)\n",
    "m1 = (0.1, 0.6)  # Initial centroid for Cluster #1 (C1)\n",
    "m2 = (0.3, 0.2)  # Initial centroid for Cluster #2 (C2)\n",
    "\n",
    "# Function to calculate Euclidean distance between two points\n",
    "def euclidean_distance(p1, p2):\n",
    "    return math.sqrt((p2[0] - p1[0])**2 + (p2[1] - p1[1])**2)\n",
    "\n",
    "# Function to calculate the centroid of a cluster\n",
    "def calculate_centroid(cluster):\n",
    "    sum_x = sum(p[0] for p in cluster)\n",
    "    sum_y = sum(p[1] for p in cluster)\n",
    "    return (sum_x / len(cluster), sum_y / len(cluster))\n",
    "\n",
    "# Perform K-means clustering\n",
    "converged = False\n",
    "while not converged:\n",
    "    # Step 1: Assign points to the nearest centroid\n",
    "    cluster1, cluster2 = [], []\n",
    "\n",
    "    for p in points:\n",
    "        dist_to_m1 = euclidean_distance(p, m1)\n",
    "        dist_to_m2 = euclidean_distance(p, m2)\n",
    "        \n",
    "        if dist_to_m1 < dist_to_m2:\n",
    "            cluster1.append(p)\n",
    "        else:\n",
    "            cluster2.append(p)\n",
    "\n",
    "    # Step 2: Calculate new centroids for each cluster\n",
    "    new_m1 = calculate_centroid(cluster1)\n",
    "    new_m2 = calculate_centroid(cluster2)\n",
    "\n",
    "    # Step 3: Check for convergence (if centroids are the same)\n",
    "    if new_m1 == m1 and new_m2 == m2:\n",
    "        converged = True\n",
    "    else:\n",
    "        m1 = new_m1\n",
    "        m2 = new_m2\n",
    "\n",
    "# Output the results\n",
    "print(\"Updated centroid m1 (Cluster 1):\", m1)\n",
    "print(\"Updated centroid m2 (Cluster 2):\", m2)\n",
    "\n",
    "# 1) Which cluster does P6 belong to?\n",
    "p6 = (0.25, 0.5)\n",
    "dist_to_m1 = euclidean_distance(p6, m1)\n",
    "dist_to_m2 = euclidean_distance(p6, m2)\n",
    "if dist_to_m1 < dist_to_m2:\n",
    "    print(\"P6 belongs to Cluster 1 (C1)\")\n",
    "else:\n",
    "    print(\"P6 belongs to Cluster 2 (C2)\")\n",
    "\n",
    "# 2) What is the population of a cluster around m2?\n",
    "print(\"Population of Cluster 2 (C2) around m2:\", len(cluster2))\n"
   ]
  },
  {
   "cell_type": "code",
   "execution_count": null,
   "id": "22316c78",
   "metadata": {},
   "outputs": [],
   "source": []
  }
 ],
 "metadata": {
  "kernelspec": {
   "display_name": "Python 3 (ipykernel)",
   "language": "python",
   "name": "python3"
  },
  "language_info": {
   "codemirror_mode": {
    "name": "ipython",
    "version": 3
   },
   "file_extension": ".py",
   "mimetype": "text/x-python",
   "name": "python",
   "nbconvert_exporter": "python",
   "pygments_lexer": "ipython3",
   "version": "3.11.2"
  }
 },
 "nbformat": 4,
 "nbformat_minor": 5
}
