{
 "cells": [
  {
   "cell_type": "code",
   "execution_count": 1,
   "id": "c82a0354",
   "metadata": {},
   "outputs": [],
   "source": [
    "import math"
   ]
  },
  {
   "cell_type": "code",
   "execution_count": 2,
   "id": "a6f6621f",
   "metadata": {},
   "outputs": [],
   "source": [
    "points = [\n",
    "    (0.1, 0.6), (0.15, 0.71), (0.08, 0.9), (0.16, 0.85), \n",
    "    (0.2, 0.3), (0.25, 0.5), (0.24, 0.1), (0.3, 0.2)\n",
    "]"
   ]
  },
  {
   "cell_type": "code",
   "execution_count": 3,
   "id": "62b2efa3",
   "metadata": {},
   "outputs": [
    {
     "data": {
      "text/plain": [
       "[(0.1, 0.6),\n",
       " (0.15, 0.71),\n",
       " (0.08, 0.9),\n",
       " (0.16, 0.85),\n",
       " (0.2, 0.3),\n",
       " (0.25, 0.5),\n",
       " (0.24, 0.1),\n",
       " (0.3, 0.2)]"
      ]
     },
     "execution_count": 3,
     "metadata": {},
     "output_type": "execute_result"
    }
   ],
   "source": [
    "points"
   ]
  },
  {
   "cell_type": "code",
   "execution_count": 4,
   "id": "d8af3769",
   "metadata": {},
   "outputs": [],
   "source": [
    "# initialize the clusters"
   ]
  },
  {
   "cell_type": "code",
   "execution_count": 5,
   "id": "45c48f83",
   "metadata": {},
   "outputs": [],
   "source": []
  },
  {
   "cell_type": "code",
   "execution_count": 13,
   "id": "4e164862",
   "metadata": {},
   "outputs": [],
   "source": [
    "def euclidean(p1,p2):\n",
    "    return math.sqrt((p1[0]-p2[0])**2+(p1[1]-p2[1])**2)"
   ]
  },
  {
   "cell_type": "code",
   "execution_count": 14,
   "id": "d0f16335",
   "metadata": {},
   "outputs": [
    {
     "name": "stdout",
     "output_type": "stream",
     "text": [
      "0.0\n"
     ]
    }
   ],
   "source": [
    "print(euclidean((4,5),(4,5)))"
   ]
  },
  {
   "cell_type": "code",
   "execution_count": 25,
   "id": "8b45bad8",
   "metadata": {},
   "outputs": [
    {
     "data": {
      "text/plain": [
       "(2.5, 2.0)"
      ]
     },
     "execution_count": 25,
     "metadata": {},
     "output_type": "execute_result"
    }
   ],
   "source": [
    "def calculate(cluster):\n",
    "    x=0\n",
    "    y=0\n",
    "    for abc in cluster:\n",
    "        x+=abc[0]\n",
    "        y+=abc[1]\n",
    "        \n",
    "    return (x/len(cluster),y/len(cluster))\n",
    "calculate(((1,2),(4,2)))\n",
    "    "
   ]
  },
  {
   "cell_type": "code",
   "execution_count": 27,
   "id": "54f88fa8",
   "metadata": {},
   "outputs": [
    {
     "name": "stdout",
     "output_type": "stream",
     "text": [
      "[(0.1, 0.6), (0.15, 0.71), (0.08, 0.9), (0.16, 0.85), (0.25, 0.5)]\n",
      "[(0.2, 0.3), (0.24, 0.1), (0.3, 0.2)]\n",
      "[(0.1, 0.6), (0.15, 0.71), (0.08, 0.9), (0.16, 0.85), (0.25, 0.5)]\n",
      "[(0.2, 0.3), (0.24, 0.1), (0.3, 0.2)]\n",
      "Updated centroid m1 (Cluster 1): (0.148, 0.712)\n",
      "Updated centroid m2 (Cluster 2): (0.24666666666666667, 0.20000000000000004)\n"
     ]
    }
   ],
   "source": [
    "# perform actual iterations\n",
    "converged=False\n",
    "m1=(0.1,0.6)\n",
    "m2=(0.3,0.2)\n",
    "while converged==False:\n",
    "    cluster1=[]\n",
    "    cluster2=[]\n",
    "    for p in points:\n",
    "#         print(p)\n",
    "        d1=euclidean(p,m1)\n",
    "        d2=euclidean(p,m2)\n",
    "#         print(d1)\n",
    "#         print(d2)\n",
    "        if(d1<d2):\n",
    "            cluster1.append(p)\n",
    "        else:\n",
    "            cluster2.append(p)\n",
    "    print(cluster1)\n",
    "    print(cluster2)\n",
    "    newm1=calculate(cluster1)\n",
    "    newm2=calculate(cluster2)\n",
    "    if(m1==newm1 and m2==newm2):\n",
    "        converged=True\n",
    "    else:\n",
    "        m1=newm1\n",
    "        m2=newm2\n",
    "        \n",
    "print(\"Updated centroid m1 (Cluster 1):\", m1)\n",
    "print(\"Updated centroid m2 (Cluster 2):\", m2)"
   ]
  },
  {
   "cell_type": "code",
   "execution_count": null,
   "id": "c90b327f",
   "metadata": {},
   "outputs": [],
   "source": []
  }
 ],
 "metadata": {
  "kernelspec": {
   "display_name": "Python 3 (ipykernel)",
   "language": "python",
   "name": "python3"
  },
  "language_info": {
   "codemirror_mode": {
    "name": "ipython",
    "version": 3
   },
   "file_extension": ".py",
   "mimetype": "text/x-python",
   "name": "python",
   "nbconvert_exporter": "python",
   "pygments_lexer": "ipython3",
   "version": "3.11.2"
  }
 },
 "nbformat": 4,
 "nbformat_minor": 5
}
