{
 "cells": [
  {
   "cell_type": "code",
   "execution_count": 1,
   "id": "dd0b28ff",
   "metadata": {},
   "outputs": [],
   "source": [
    "import random\n",
    "import math\n",
    "from sklearn.datasets import load_iris\n",
    "\n",
    "# Step 1: Load the Iris dataset\n",
    "iris = load_iris()\n",
    "points = iris.data.tolist()"
   ]
  },
  {
   "cell_type": "code",
   "execution_count": 6,
   "id": "750523d8",
   "metadata": {},
   "outputs": [],
   "source": [
    "# points\n",
    "random.seed(42)\n",
    "initial_indices = random.sample(range(len(points)), 3)"
   ]
  },
  {
   "cell_type": "code",
   "execution_count": 7,
   "id": "e3a028e9",
   "metadata": {},
   "outputs": [
    {
     "data": {
      "text/plain": [
       "[28, 6, 70]"
      ]
     },
     "execution_count": 7,
     "metadata": {},
     "output_type": "execute_result"
    }
   ],
   "source": [
    "initial_indices"
   ]
  },
  {
   "cell_type": "code",
   "execution_count": 21,
   "id": "17cb821e",
   "metadata": {},
   "outputs": [],
   "source": [
    "centroids = (points[i] for i in initial_indices)"
   ]
  },
  {
   "cell_type": "code",
   "execution_count": 22,
   "id": "bc203756",
   "metadata": {},
   "outputs": [
    {
     "ename": "TypeError",
     "evalue": "'generator' object is not subscriptable",
     "output_type": "error",
     "traceback": [
      "\u001b[1;31m---------------------------------------------------------------------------\u001b[0m",
      "\u001b[1;31mTypeError\u001b[0m                                 Traceback (most recent call last)",
      "Cell \u001b[1;32mIn[22], line 2\u001b[0m\n\u001b[0;32m      1\u001b[0m centroids\n\u001b[1;32m----> 2\u001b[0m m1\u001b[38;5;241m=\u001b[39m\u001b[43mcentroids\u001b[49m\u001b[43m[\u001b[49m\u001b[38;5;241;43m0\u001b[39;49m\u001b[43m]\u001b[49m\n\u001b[0;32m      3\u001b[0m m2\u001b[38;5;241m=\u001b[39mcentroids[\u001b[38;5;241m1\u001b[39m]\n\u001b[0;32m      4\u001b[0m m3\u001b[38;5;241m=\u001b[39mcentroids[\u001b[38;5;241m2\u001b[39m]\n",
      "\u001b[1;31mTypeError\u001b[0m: 'generator' object is not subscriptable"
     ]
    }
   ],
   "source": [
    "centroids\n",
    "m1=centroids[0]\n",
    "m2=centroids[1]\n",
    "m3=centroids[2]"
   ]
  },
  {
   "cell_type": "code",
   "execution_count": 17,
   "id": "ba7c7546",
   "metadata": {},
   "outputs": [],
   "source": [
    "def calculate_centroids(cluster):\n",
    "    a,b,c,d=0,0,0,0\n",
    "    for gh in cluster:\n",
    "        a+=gh[0]\n",
    "        b+=gh[1]\n",
    "        c+=gh[2]\n",
    "        d+=gh[3]\n",
    "    return [a/len(cluster),b/len(cluster),c/len(cluster),d/len(cluster)]"
   ]
  },
  {
   "cell_type": "code",
   "execution_count": 18,
   "id": "ac59c731",
   "metadata": {},
   "outputs": [],
   "source": [
    "def calculate_distance(p1,m1):\n",
    "    return math.sqrt((p1[0]-m1[0])**2+(p1[1]-m1[1])**2+(p1[2]-m1[2])**2+(p1[3]-m1[3])**2)"
   ]
  },
  {
   "cell_type": "code",
   "execution_count": null,
   "id": "cb66fae6",
   "metadata": {},
   "outputs": [
    {
     "name": "stdout",
     "output_type": "stream",
     "text": [
      "[5.216831683168317, 3.636303630363033, 1.498679867986797, 0.2815181518151822]\n",
      "[4.721777777777773, 3.02, 1.628000000000001, 0.2964444444444452]\n",
      "[6.298251028806573, 2.8854938271604946, 4.955349794238681, 1.6944444444444384]\n"
     ]
    }
   ],
   "source": [
    "m1=centroids[0]\n",
    "m2=centroids[1]\n",
    "m3=centroids[2]\n",
    "m3\n",
    "i=0\n",
    "cluster1=[]\n",
    "cluster2=[]\n",
    "cluster3=[]\n",
    "while i<10:\n",
    "    for p in points:\n",
    "        d1=calculate_distance(p,m1)\n",
    "        d2=calculate_distance(p,m2)\n",
    "        d3=calculate_distance(p,m3)\n",
    "        if(d1<d2 and d1<d3):\n",
    "            cluster1.append(p)\n",
    "        elif(d2<d1 and d2<d3):\n",
    "            cluster2.append(p)\n",
    "        elif(d3<d1 and d3<d2):\n",
    "            cluster3.append(p)\n",
    "    c1=calculate_centroids(cluster1)\n",
    "    c2=calculate_centroids(cluster2)\n",
    "    c3=calculate_centroids(cluster3)\n",
    "    if(m1==c1 and m2==c2 and m3==c3):\n",
    "        break\n",
    "    else:\n",
    "        m1=c1\n",
    "        m2=c2\n",
    "        m3=c3\n",
    "    i+=1\n",
    "    \n",
    "print(m1)\n",
    "print(m2)\n",
    "print(m3)"
   ]
  },
  {
   "cell_type": "code",
   "execution_count": 20,
   "id": "9f85f3db",
   "metadata": {},
   "outputs": [
    {
     "ename": "TypeError",
     "evalue": "unhashable type: 'list'",
     "output_type": "error",
     "traceback": [
      "\u001b[1;31m---------------------------------------------------------------------------\u001b[0m",
      "\u001b[1;31mTypeError\u001b[0m                                 Traceback (most recent call last)",
      "Cell \u001b[1;32mIn[20], line 1\u001b[0m\n\u001b[1;32m----> 1\u001b[0m \u001b[38;5;28mdict\u001b[39m\u001b[38;5;241m=\u001b[39m{\n\u001b[0;32m      2\u001b[0m     c1:\u001b[38;5;124m\"\u001b[39m\u001b[38;5;124msetosa\u001b[39m\u001b[38;5;124m\"\u001b[39m,\n\u001b[0;32m      3\u001b[0m     c2:\u001b[38;5;124m\"\u001b[39m\u001b[38;5;124mversicolor\u001b[39m\u001b[38;5;124m\"\u001b[39m,\n\u001b[0;32m      4\u001b[0m     c3:\u001b[38;5;124m\"\u001b[39m\u001b[38;5;124mvirginica\u001b[39m\u001b[38;5;124m\"\u001b[39m\n\u001b[0;32m      5\u001b[0m }\n",
      "\u001b[1;31mTypeError\u001b[0m: unhashable type: 'list'"
     ]
    }
   ],
   "source": [
    "dict={\n",
    "    c1:\"setosa\",\n",
    "    c2:\"versicolor\",\n",
    "    c3:\"virginica\"\n",
    "}"
   ]
  },
  {
   "cell_type": "code",
   "execution_count": null,
   "id": "848b2406",
   "metadata": {},
   "outputs": [],
   "source": []
  }
 ],
 "metadata": {
  "kernelspec": {
   "display_name": "Python 3 (ipykernel)",
   "language": "python",
   "name": "python3"
  },
  "language_info": {
   "codemirror_mode": {
    "name": "ipython",
    "version": 3
   },
   "file_extension": ".py",
   "mimetype": "text/x-python",
   "name": "python",
   "nbconvert_exporter": "python",
   "pygments_lexer": "ipython3",
   "version": "3.11.2"
  }
 },
 "nbformat": 4,
 "nbformat_minor": 5
}
