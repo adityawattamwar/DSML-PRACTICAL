{
 "cells": [
  {
   "cell_type": "code",
   "execution_count": 11,
   "id": "54eb1b53",
   "metadata": {},
   "outputs": [
    {
     "name": "stdout",
     "output_type": "stream",
     "text": [
      "Defaulting to user installation because normal site-packages is not writeable\n",
      "Collecting openpyxl\n",
      "  Downloading openpyxl-3.1.5-py2.py3-none-any.whl.metadata (2.5 kB)\n",
      "Collecting et-xmlfile (from openpyxl)\n",
      "  Downloading et_xmlfile-2.0.0-py3-none-any.whl.metadata (2.7 kB)\n",
      "Downloading openpyxl-3.1.5-py2.py3-none-any.whl (250 kB)\n",
      "   ---------------------------------------- 0.0/250.9 kB ? eta -:--:--\n",
      "   -------------- ------------------------- 92.2/250.9 kB 2.6 MB/s eta 0:00:01\n",
      "   ---------------------- ----------------- 143.4/250.9 kB 1.7 MB/s eta 0:00:01\n",
      "   ----------------------------------- ---- 225.3/250.9 kB 2.3 MB/s eta 0:00:01\n",
      "   ---------------------------------------  245.8/250.9 kB 1.5 MB/s eta 0:00:01\n",
      "   ---------------------------------------- 250.9/250.9 kB 1.1 MB/s eta 0:00:00\n",
      "Downloading et_xmlfile-2.0.0-py3-none-any.whl (18 kB)\n",
      "Installing collected packages: et-xmlfile, openpyxl\n",
      "Successfully installed et-xmlfile-2.0.0 openpyxl-3.1.5\n",
      "Note: you may need to restart the kernel to use updated packages.\n"
     ]
    },
    {
     "name": "stderr",
     "output_type": "stream",
     "text": [
      "\n",
      "[notice] A new release of pip is available: 24.1.2 -> 24.3.1\n",
      "[notice] To update, run: python.exe -m pip install --upgrade pip\n"
     ]
    }
   ],
   "source": [
    "import pandas as pd\n",
    "%pip install openpyxl"
   ]
  },
  {
   "cell_type": "code",
   "execution_count": 69,
   "id": "ff12a284",
   "metadata": {},
   "outputs": [],
   "source": [
    "df= pd.read_excel(\"D://DSML PRACTICAL//Datasets//Age Table.xlsx\")\n",
    "import math\n",
    "import numpy as np"
   ]
  },
  {
   "cell_type": "code",
   "execution_count": 70,
   "id": "8eac699e",
   "metadata": {},
   "outputs": [
    {
     "data": {
      "text/html": [
       "<div>\n",
       "<style scoped>\n",
       "    .dataframe tbody tr th:only-of-type {\n",
       "        vertical-align: middle;\n",
       "    }\n",
       "\n",
       "    .dataframe tbody tr th {\n",
       "        vertical-align: top;\n",
       "    }\n",
       "\n",
       "    .dataframe thead th {\n",
       "        text-align: right;\n",
       "    }\n",
       "</style>\n",
       "<table border=\"1\" class=\"dataframe\">\n",
       "  <thead>\n",
       "    <tr style=\"text-align: right;\">\n",
       "      <th></th>\n",
       "      <th>Age</th>\n",
       "      <th>Income</th>\n",
       "      <th>Married</th>\n",
       "      <th>Health</th>\n",
       "      <th>Class</th>\n",
       "    </tr>\n",
       "  </thead>\n",
       "  <tbody>\n",
       "    <tr>\n",
       "      <th>0</th>\n",
       "      <td>Young</td>\n",
       "      <td>High</td>\n",
       "      <td>No</td>\n",
       "      <td>Fair</td>\n",
       "      <td>No</td>\n",
       "    </tr>\n",
       "    <tr>\n",
       "      <th>1</th>\n",
       "      <td>Young</td>\n",
       "      <td>High</td>\n",
       "      <td>No</td>\n",
       "      <td>Good</td>\n",
       "      <td>No</td>\n",
       "    </tr>\n",
       "    <tr>\n",
       "      <th>2</th>\n",
       "      <td>Middle</td>\n",
       "      <td>High</td>\n",
       "      <td>No</td>\n",
       "      <td>Fair</td>\n",
       "      <td>Yes</td>\n",
       "    </tr>\n",
       "    <tr>\n",
       "      <th>3</th>\n",
       "      <td>Old</td>\n",
       "      <td>Medium</td>\n",
       "      <td>No</td>\n",
       "      <td>Fair</td>\n",
       "      <td>Yes</td>\n",
       "    </tr>\n",
       "    <tr>\n",
       "      <th>4</th>\n",
       "      <td>Old</td>\n",
       "      <td>Low</td>\n",
       "      <td>Yes</td>\n",
       "      <td>Fair</td>\n",
       "      <td>Yes</td>\n",
       "    </tr>\n",
       "    <tr>\n",
       "      <th>5</th>\n",
       "      <td>Old</td>\n",
       "      <td>Low</td>\n",
       "      <td>Yes</td>\n",
       "      <td>Good</td>\n",
       "      <td>No</td>\n",
       "    </tr>\n",
       "    <tr>\n",
       "      <th>6</th>\n",
       "      <td>Middle</td>\n",
       "      <td>Low</td>\n",
       "      <td>Yes</td>\n",
       "      <td>Good</td>\n",
       "      <td>Yes</td>\n",
       "    </tr>\n",
       "    <tr>\n",
       "      <th>7</th>\n",
       "      <td>Young</td>\n",
       "      <td>Medium</td>\n",
       "      <td>No</td>\n",
       "      <td>Fair</td>\n",
       "      <td>No</td>\n",
       "    </tr>\n",
       "    <tr>\n",
       "      <th>8</th>\n",
       "      <td>Young</td>\n",
       "      <td>Low</td>\n",
       "      <td>Yes</td>\n",
       "      <td>Fair</td>\n",
       "      <td>Yes</td>\n",
       "    </tr>\n",
       "    <tr>\n",
       "      <th>9</th>\n",
       "      <td>Old</td>\n",
       "      <td>Medium</td>\n",
       "      <td>Yes</td>\n",
       "      <td>Fair</td>\n",
       "      <td>Yes</td>\n",
       "    </tr>\n",
       "    <tr>\n",
       "      <th>10</th>\n",
       "      <td>Young</td>\n",
       "      <td>Medium</td>\n",
       "      <td>Yes</td>\n",
       "      <td>Good</td>\n",
       "      <td>Yes</td>\n",
       "    </tr>\n",
       "    <tr>\n",
       "      <th>11</th>\n",
       "      <td>Middle</td>\n",
       "      <td>No</td>\n",
       "      <td>No</td>\n",
       "      <td>Good</td>\n",
       "      <td>Yes</td>\n",
       "    </tr>\n",
       "    <tr>\n",
       "      <th>12</th>\n",
       "      <td>Middle</td>\n",
       "      <td>Yes</td>\n",
       "      <td>Yes</td>\n",
       "      <td>Fair</td>\n",
       "      <td>Yes</td>\n",
       "    </tr>\n",
       "    <tr>\n",
       "      <th>13</th>\n",
       "      <td>Old</td>\n",
       "      <td>No</td>\n",
       "      <td>No</td>\n",
       "      <td>Good</td>\n",
       "      <td>No</td>\n",
       "    </tr>\n",
       "  </tbody>\n",
       "</table>\n",
       "</div>"
      ],
      "text/plain": [
       "       Age  Income Married Health  Class\n",
       "0    Young    High      No    Fair    No\n",
       "1    Young    High      No    Good    No\n",
       "2   Middle    High      No    Fair   Yes\n",
       "3      Old  Medium      No    Fair   Yes\n",
       "4      Old     Low     Yes    Fair   Yes\n",
       "5      Old     Low     Yes    Good    No\n",
       "6   Middle     Low     Yes    Good   Yes\n",
       "7    Young  Medium      No    Fair    No\n",
       "8    Young     Low     Yes    Fair   Yes\n",
       "9      Old  Medium     Yes    Fair   Yes\n",
       "10  Young   Medium     Yes    Good   Yes\n",
       "11  Middle      No      No    Good   Yes\n",
       "12  Middle     Yes     Yes    Fair   Yes\n",
       "13     Old      No      No    Good    No"
      ]
     },
     "execution_count": 70,
     "metadata": {},
     "output_type": "execute_result"
    }
   ],
   "source": [
    "df"
   ]
  },
  {
   "cell_type": "code",
   "execution_count": 71,
   "id": "048498d9",
   "metadata": {},
   "outputs": [],
   "source": [
    "yes_count=len(df[df['Class']=='Yes'])"
   ]
  },
  {
   "cell_type": "code",
   "execution_count": 45,
   "id": "af424072",
   "metadata": {},
   "outputs": [
    {
     "data": {
      "text/plain": [
       "9"
      ]
     },
     "execution_count": 45,
     "metadata": {},
     "output_type": "execute_result"
    }
   ],
   "source": [
    "yes_count"
   ]
  },
  {
   "cell_type": "code",
   "execution_count": 35,
   "id": "9d1930ef",
   "metadata": {},
   "outputs": [],
   "source": [
    "no_count=len(df)-yes_count"
   ]
  },
  {
   "cell_type": "code",
   "execution_count": 55,
   "id": "7b17ca29",
   "metadata": {},
   "outputs": [],
   "source": [
    "total=no_count+yes_count"
   ]
  },
  {
   "cell_type": "code",
   "execution_count": 72,
   "id": "2316d716",
   "metadata": {},
   "outputs": [],
   "source": [
    "def calc_entropy(yes,no,total):\n",
    "    if yes == 0 or no == 0:\n",
    "        return 0  # If either count is 0, the entropy contribution is 0\n",
    "    return (yes/total*np.log2(yes/total)+no/total*np.log2(no/total))*-1"
   ]
  },
  {
   "cell_type": "code",
   "execution_count": 73,
   "id": "fc0da797",
   "metadata": {},
   "outputs": [],
   "source": [
    "df[\"Age\"] = df[\"Age\"].str.strip()\n",
    "\n",
    "unique_values=df['Age'].unique()"
   ]
  },
  {
   "cell_type": "code",
   "execution_count": 74,
   "id": "d6f85772",
   "metadata": {},
   "outputs": [
    {
     "data": {
      "text/plain": [
       "array(['Young', 'Middle', 'Old'], dtype=object)"
      ]
     },
     "execution_count": 74,
     "metadata": {},
     "output_type": "execute_result"
    }
   ],
   "source": [
    "unique_values"
   ]
  },
  {
   "cell_type": "code",
   "execution_count": 75,
   "id": "9447a17e",
   "metadata": {},
   "outputs": [
    {
     "data": {
      "text/plain": [
       "0.9402859586706311"
      ]
     },
     "execution_count": 75,
     "metadata": {},
     "output_type": "execute_result"
    }
   ],
   "source": [
    "total_entropy=calc_entropy(yes_count,no_count,yes_count+no_count)\n",
    "total_entropy"
   ]
  },
  {
   "cell_type": "code",
   "execution_count": 76,
   "id": "3ae490ed",
   "metadata": {},
   "outputs": [
    {
     "name": "stdout",
     "output_type": "stream",
     "text": [
      "0.24674981977443933\n"
     ]
    }
   ],
   "source": [
    "sum=0\n",
    "for col in unique_values:\n",
    "    temp_df=df[df['Age']==col]\n",
    "    y=len(temp_df[temp_df['Class']=='Yes'])\n",
    "    n=len(temp_df[temp_df['Class']=='No'])\n",
    "    sum+=((y+n)/total*(calc_entropy(y,n,y+n)))\n",
    "\n",
    "print(total_entropy-sum)"
   ]
  },
  {
   "cell_type": "code",
   "execution_count": null,
   "id": "0a221d38",
   "metadata": {},
   "outputs": [],
   "source": []
  }
 ],
 "metadata": {
  "kernelspec": {
   "display_name": "Python 3 (ipykernel)",
   "language": "python",
   "name": "python3"
  },
  "language_info": {
   "codemirror_mode": {
    "name": "ipython",
    "version": 3
   },
   "file_extension": ".py",
   "mimetype": "text/x-python",
   "name": "python",
   "nbconvert_exporter": "python",
   "pygments_lexer": "ipython3",
   "version": "3.11.2"
  }
 },
 "nbformat": 4,
 "nbformat_minor": 5
}
